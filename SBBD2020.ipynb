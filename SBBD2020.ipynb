{
 "cells": [
  {
   "cell_type": "markdown",
   "metadata": {},
   "source": [
    "<h1>Artigo SBBD 2020</h1>"
   ]
  },
  {
   "cell_type": "markdown",
   "metadata": {},
   "source": [
    "<h3>Harbinger: um <i>framework</i> para detecção de eventos em séries temporais </h3>"
   ]
  },
  {
   "cell_type": "markdown",
   "metadata": {},
   "source": [
    "- A detecção de eventos em séries temporais é caracterizada pela mudança do comportamento da série. Um evento pode ser a ocorrência de uma anomalia ou um ponto de mudança, por exemplo. <br>\n",
    "- Para detectar eventos em séries temporais foi desenvolvido o Harbinger, um framework cujas funcionalidades ajudam a nortear a escolha de métodos de detecção apropriados para uma determinada série temporal e contribuem para a compreensão da semântica dos eventos detectados. A avaliação de seu desempenho foi feita em dados sintéticos e reais. <br>\n",
    "- Além de facilitar a inclusão de métodos e a padronização dos resultados obtidos, permite otimizar hiperparâmetros e definir métricas para comparação de resultados."
   ]
  },
  {
   "cell_type": "markdown",
   "metadata": {},
   "source": [
    "<h3><i>Framework</i></h3>"
   ]
  },
  {
   "cell_type": "markdown",
   "metadata": {},
   "source": [
    "O <i>framework</i> possui métodos selecionados da literatura, permitindo sua implementação e execução em um mesmo formato de entrada e saída de dados. Também é permitido ao usuário definir seus próprios métodos de detecção, conforme a necessidade, e suas principais funcionalidades são:\n",
    "<list>\n",
    "    1. detecção de eventos em séries temporais, através da função evtdet.\n",
    "    2. avaliação da qualidade da detecção pela função evaluate.\n",
    "</list>"
   ]
  },
  {
   "cell_type": "markdown",
   "metadata": {},
   "source": [
    "<h3> Dataset utilizado"
   ]
  },
  {
   "cell_type": "markdown",
   "metadata": {},
   "source": [
    "Foi utilizado na análise o conjunto de dados criado para o GECCO Challenge 2018. Para compor este conjunto, foram selecionadas $1500$ observações coletadas a cada minuto contendo $72$ eventos identificados. Foram coletadas $9$ variáveis relacionadas à qualidade da água, das quais $5$ foram selecionadas por apresentar maior variabilidade em suas observações. São elas $Tp$, $pH$, $Redox$, $Leit$ e $Trueb$, representando a temperatura, PH, potencial Redox, condutividade elétrica e turvação, respectivamente."
   ]
  },
  {
   "cell_type": "markdown",
   "metadata": {},
   "source": [
    "Também foi selecionado o conjunto de dados criado por $Yahoo Labs$. Este consiste de observações coletadas por hora contendo anomalias identificadas manualmente por editores. Uma parte dos dados é sintética e outra é baseada no tráfego real dos serviços do Yahoo. O conjunto de dados é dividido em quatro, sendo $A1$ composto pelos dados reais e $A2$, $A3$ e $A4$ por dados sintéticos."
   ]
  },
  {
   "cell_type": "markdown",
   "metadata": {},
   "source": [
    "<h3>Carregar funções:</h3>"
   ]
  },
  {
   "cell_type": "code",
   "execution_count": 8,
   "metadata": {},
   "outputs": [],
   "source": [
    "source(\"~/evtdet.R\")"
   ]
  },
  {
   "cell_type": "markdown",
   "metadata": {},
   "source": [
    "<h3>Carregar dataset de qualidade da água:</h3>"
   ]
  },
  {
   "cell_type": "code",
   "execution_count": 9,
   "metadata": {},
   "outputs": [],
   "source": [
    "library(EventDetectR)\n",
    "train <- geccoIC2018Train[16500:18000,]"
   ]
  },
  {
   "cell_type": "markdown",
   "metadata": {},
   "source": [
    "Para utilizar o framework, precisamos de dois dataframes: um com uma série de tempo e a outra onde serão procurados os eventos, e outro com a série de tempo e os eventos marcados (as referências, ou gabarito)"
   ]
  },
  {
   "cell_type": "markdown",
   "metadata": {},
   "source": [
    "<h3>Variável Trueb</h3>"
   ]
  },
  {
   "cell_type": "code",
   "execution_count": 11,
   "metadata": {},
   "outputs": [],
   "source": [
    "test <- subset(train, select=c(Time, Trueb))\n",
    "reference <- subset(train, select=c(Time, EVENT))"
   ]
  },
  {
   "cell_type": "markdown",
   "metadata": {},
   "source": [
    "<h3>Detecção de eventos usando o <i>ChangeFinder</i>:</h3>"
   ]
  },
  {
   "cell_type": "code",
   "execution_count": 12,
   "metadata": {},
   "outputs": [],
   "source": [
    "events_cp_v3 <- evtdet.changepoints_v3(test,mdl=linreg,m=5,na.action=na.omit)"
   ]
  },
  {
   "cell_type": "markdown",
   "metadata": {},
   "source": [
    "Obtendo métricas a partir da função <i>evaluate</i>:"
   ]
  },
  {
   "cell_type": "markdown",
   "metadata": {},
   "source": [
    "<h3>Matriz de Confusão</h3>"
   ]
  },
  {
   "cell_type": "code",
   "execution_count": 13,
   "metadata": {},
   "outputs": [
    {
     "name": "stderr",
     "output_type": "stream",
     "text": [
      "Registered S3 methods overwritten by 'survival':\n",
      "  method       from \n",
      "  nobs.coxph   MuMIn\n",
      "  nobs.survreg MuMIn\n"
     ]
    },
    {
     "data": {
      "text/plain": [
       "          Reference\n",
       "Prediction FALSE TRUE\n",
       "     FALSE  1297   16\n",
       "     TRUE    132   56"
      ]
     },
     "metadata": {},
     "output_type": "display_data"
    }
   ],
   "source": [
    "evaluate(events_cp_v3, reference, metric=\"confusion_matrix\")"
   ]
  },
  {
   "cell_type": "markdown",
   "metadata": {},
   "source": [
    "<h3>F1</h3>"
   ]
  },
  {
   "cell_type": "code",
   "execution_count": 20,
   "metadata": {},
   "outputs": [
    {
     "data": {
      "text/html": [
       "<strong>F1:</strong> 0.946024799416484"
      ],
      "text/latex": [
       "\\textbf{F1:} 0.946024799416484"
      ],
      "text/markdown": [
       "**F1:** 0.946024799416484"
      ],
      "text/plain": [
       "       F1 \n",
       "0.9460248 "
      ]
     },
     "metadata": {},
     "output_type": "display_data"
    }
   ],
   "source": [
    "evaluate(events_cp_v3, reference, metric=\"F1\")"
   ]
  },
  {
   "cell_type": "markdown",
   "metadata": {},
   "source": [
    "<h3>Plot</h3>"
   ]
  },
  {
   "cell_type": "code",
   "execution_count": 19,
   "metadata": {},
   "outputs": [
    {
     "data": {
      "image/png": "[encoded data removed]",
      "text/plain": [
       "plot without title"
      ]
     },
     "metadata": {},
     "output_type": "display_data"
    }
   ],
   "source": [
    "options(repr.plot.width = 5, repr.plot.height = 2.5)\n",
    "evtplot(test, events_cp_v3, reference)"
   ]
  },
  {
   "cell_type": "markdown",
   "metadata": {},
   "source": []
  }
 ],
 "metadata": {
  "kernelspec": {
   "display_name": "R",
   "language": "R",
   "name": "ir"
  },
  "language_info": {
   "codemirror_mode": "r",
   "file_extension": ".r",
   "mimetype": "text/x-r-source",
   "name": "R",
   "pygments_lexer": "r",
   "version": "4.1.0"
  }
 },
 "nbformat": 4,
 "nbformat_minor": 2
}
