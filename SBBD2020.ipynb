{
 "cells": [
  {
   "cell_type": "markdown",
   "metadata": {},
   "source": [
    "<h1>Artigo SBBD 2020</h1>"
   ]
  },
  {
   "cell_type": "markdown",
   "metadata": {},
   "source": [
    "<h3>Parnaso: um <i>framework</i> para detecção de eventos em séries temporais </h3>"
   ]
  },
  {
   "cell_type": "markdown",
   "metadata": {},
   "source": [
    "A detecção de eventos em séries temporais é caracterizada pela mudança do comportamento da série. Um evento pode ser a ocorrência de uma anomalia ou um ponto de mudança, por exemplo. Para detectar eventos em séries temporais na linguagem R foi desenvolvido um <i>framework</i> que, além de facilitar a inclusão de métodos e a padronização dos resultados obtidos, permite otimizar hiperparâmetros e definir métricas para comparação de resultados. Neste trabalho foram avaliados 10 métodos de detecção, sendo 8 métodos baseados em estatística e 2 baseados em técnicas de agrupamento."
   ]
  },
  {
   "cell_type": "markdown",
   "metadata": {},
   "source": [
    "<h3><i>Framework</i></h3>"
   ]
  },
  {
   "cell_type": "markdown",
   "metadata": {},
   "source": [
    "O <i>framework</i> possui métodos selecionados da literatura, permitindo sua implementação e execução em um mesmo formato de entrada e saída de dados. Também é permitido ao usuário definir seus próprios métodos de detecção, conforme a necessidade, e suas principais funcionalidades são:\n",
    "<list>\n",
    "    1. detecção de eventos em séries temporais, através da função evtdet.\n",
    "    2. avaliação da qualidade da detecção pela função evaluate.\n",
    "</list>"
   ]
  },
  {
   "cell_type": "markdown",
   "metadata": {},
   "source": [
    "<h3>Carregar funções:</h3>"
   ]
  },
  {
   "cell_type": "code",
   "execution_count": 8,
   "metadata": {},
   "outputs": [],
   "source": [
    "source(\"~/evtdet.R\")"
   ]
  },
  {
   "cell_type": "markdown",
   "metadata": {},
   "source": [
    "<h3>Carregar dataset de qualidade da água:</h3>"
   ]
  },
  {
   "cell_type": "code",
   "execution_count": 9,
   "metadata": {},
   "outputs": [],
   "source": [
    "library(EventDetectR)\n",
    "train <- geccoIC2018Train[16500:18000,]"
   ]
  },
  {
   "cell_type": "markdown",
   "metadata": {},
   "source": [
    "Para utilizar o framework, precisamos de dois dataframes: um com uma série de tempo e a outra onde serão procurados os eventos, e outro com a série de tempo e os eventos marcados (as referências, ou gabarito)"
   ]
  },
  {
   "cell_type": "markdown",
   "metadata": {},
   "source": [
    "<h3>Variável Trueb</h3>"
   ]
  },
  {
   "cell_type": "code",
   "execution_count": 11,
   "metadata": {},
   "outputs": [],
   "source": [
    "test <- subset(train, select=c(Time, Trueb))\n",
    "reference <- subset(train, select=c(Time, EVENT))"
   ]
  },
  {
   "cell_type": "markdown",
   "metadata": {},
   "source": [
    "<h3>Detecção de eventos usando o <i>ChangeFinder</i>:</h3>"
   ]
  },
  {
   "cell_type": "code",
   "execution_count": 12,
   "metadata": {},
   "outputs": [],
   "source": [
    "events_cp_v3 <- evtdet.changepoints_v3(test,mdl=linreg,m=5,na.action=na.omit)"
   ]
  },
  {
   "cell_type": "markdown",
   "metadata": {},
   "source": [
    "Obtendo métricas a partir da função <i>evaluate</i>:"
   ]
  },
  {
   "cell_type": "markdown",
   "metadata": {},
   "source": [
    "<h3>Matriz de Confusão</h3>"
   ]
  },
  {
   "cell_type": "code",
   "execution_count": 13,
   "metadata": {},
   "outputs": [
    {
     "name": "stderr",
     "output_type": "stream",
     "text": [
      "Registered S3 methods overwritten by 'survival':\n",
      "  method       from \n",
      "  nobs.coxph   MuMIn\n",
      "  nobs.survreg MuMIn\n"
     ]
    },
    {
     "data": {
      "text/plain": [
       "          Reference\n",
       "Prediction FALSE TRUE\n",
       "     FALSE  1297   16\n",
       "     TRUE    132   56"
      ]
     },
     "metadata": {},
     "output_type": "display_data"
    }
   ],
   "source": [
    "evaluate(events_cp_v3, reference, metric=\"confusion_matrix\")"
   ]
  },
  {
   "cell_type": "code",
   "execution_count": null,
   "metadata": {},
   "outputs": [],
   "source": []
  }
 ],
 "metadata": {
  "kernelspec": {
   "display_name": "R",
   "language": "R",
   "name": "ir"
  }
 },
 "nbformat": 4,
 "nbformat_minor": 2
}
