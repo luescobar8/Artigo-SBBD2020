{
 "cells": [
  {
   "cell_type": "markdown",
   "metadata": {},
   "source": [
    "<h1>Artigo SBBD 2020</h1>"
   ]
  },
  {
   "cell_type": "markdown",
   "metadata": {},
   "source": [
    "<h3>Parnaso: um <i>framework</i> para detecção de eventos em séries temporais </h3>"
   ]
  },
  {
   "cell_type": "markdown",
   "metadata": {},
   "source": [
    "A detecção de eventos em séries temporais é caracterizada pela mudança do comportamento da série. Um evento pode ser a ocorrência de uma anomalia ou um ponto de mudança, por exemplo. Para detectar eventos em séries temporais na linguagem R foi desenvolvido um <i>framework</i> que, além de facilitar a inclusão de métodos e a padronização dos resultados obtidos, permite otimizar hiperparâmetros e definir métricas para comparação de resultados. Neste trabalho foram avaliados 10 métodos de detecção, sendo 8 métodos baseados em estatística e 2 baseados em técnicas de agrupamento."
   ]
  },
  {
   "cell_type": "markdown",
   "metadata": {},
   "source": [
    "<h3><i>Framework</i></h3>"
   ]
  },
  {
   "cell_type": "markdown",
   "metadata": {},
   "source": [
    "O <i>framework</i> possui métodos selecionados da literatura, permitindo sua implementação e execução em um mesmo formato de entrada e saída de dados. Também é permitido ao usuário definir seus próprios métodos de detecção, conforme a necessidade, e suas principais funcionalidades são:\n",
    "<list>\n",
    "    1. detecção de eventos em séries temporais, através da função evtdet.\n",
    "    2. avaliação da qualidade da detecção pela função evaluate.\n",
    "</list>"
   ]
  },
  {
   "cell_type": "markdown",
   "metadata": {},
   "source": [
    "<h4>Funcionalidades e Estrutura de Dados</h4>"
   ]
  },
  {
   "cell_type": "markdown",
   "metadata": {},
   "source": [
    "A função <b>evtdet</b> recebe os dados de entrada e consiste dos seguintes parâmetros:\n",
    "<list>\n",
    "    - X: um dataset contendo uma ou mais séries temporais, onde a primeira se refere ao tempo (data ou índice sequencial).\n",
    "    - f: função para detecção de eventos onde X é recebido como entrada, e a saída consiste em um data.frame com três variáveis: time, instante/ índice de eventos; serie, nome da série correspondente; e type, tipo do evento.\n",
    "    - par: lista de parâmetros para f.\n",
    "</list>"
   ]
  },
  {
   "cell_type": "markdown",
   "metadata": {},
   "source": [
    "A implementação da função <b>evtdet</b> segue o seguinte padrão:"
   ]
  },
  {
   "cell_type": "code",
   "execution_count": 2,
   "metadata": {},
   "outputs": [],
   "source": [
    "evtdet <- function(data,func,...){\n",
    "    if(is.null(data)) stop(\"No data was provided for computation\",call. = FALSE)\n",
    "    \n",
    "    events <- do.call(func,c(list(data),list(...)))\n",
    "    \n",
    "    return(events)\n",
    "}"
   ]
  },
  {
   "cell_type": "markdown",
   "metadata": {},
   "source": [
    "Neste caso, fixando as implementações dos métodos utilizados como o parâmetro <b>f</b> da função <b>evtdet</b>, definem-se funções auxiliares para detecção de eventos:\n",
    "<list>\n",
    "    - evtdet.anomalize(X,...)\n",
    "    - evtdet.changepoints_v1(X,...)\n",
    "    - evtdet.changepoints_v3(X,...)\n",
    "    - evtdet.otsad(X,...)\n",
    "    - evtdet.an_outliers(X,...)\n",
    "</list>"
   ]
  },
  {
   "cell_type": "markdown",
   "metadata": {},
   "source": [
    "Para avaliar a qualidade da detecção e o desempenho do método escolhido, chamamos a função <b>evaluate</b>, que recebe como entrada os seguintes parâmetros:\n",
    "<list>\n",
    "    - E: retorno da função evtdet relativo a uma série temporal particular.\n",
    "    - δ: função para cálculo de métrica de qualidade da detecção de eventos.\n",
    "    - ref: data.frame com a mesma dimensão de X, contendo duas variáveis: time (tempo (data ou índice sequencial)) e event (valores booleanos indicativos da real ocorrência de eventos em X).\n"
   ]
  },
  {
   "cell_type": "code",
   "execution_count": null,
   "metadata": {},
   "outputs": [],
   "source": []
  }
 ],
 "metadata": {
  "kernelspec": {
   "display_name": "R",
   "language": "R",
   "name": "ir"
  },
  "language_info": {
   "codemirror_mode": "r",
   "file_extension": ".r",
   "mimetype": "text/x-r-source",
   "name": "R",
   "pygments_lexer": "r",
   "version": "3.6.3"
  }
 },
 "nbformat": 4,
 "nbformat_minor": 2
}
